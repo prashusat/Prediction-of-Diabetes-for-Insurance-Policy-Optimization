{
 "cells": [
  {
   "cell_type": "markdown",
   "metadata": {},
   "source": [
    "# Lumiata Data Science take-home assignment\n",
    "\n",
    "## This notebook is structured in two parts\n",
    "###   - The first portion is exploration of the data\n",
    "###    - The second portion is where to put your code"
   ]
  },
  {
   "cell_type": "markdown",
   "metadata": {},
   "source": [
    "# Explore the structure of the data first"
   ]
  },
  {
   "cell_type": "markdown",
   "metadata": {},
   "source": [
    "<h2>Importing Libraries</h2>"
   ]
  },
  {
   "cell_type": "code",
   "execution_count": 149,
   "metadata": {},
   "outputs": [],
   "source": [
    "import csv\n",
    "import warnings\n",
    "warnings.filterwarnings('ignore')\n",
    "import matplotlib\n",
    "import re\n",
    "from tqdm import tqdm\n",
    "import datetime\n",
    "import numpy as np\n",
    "import matplotlib.pyplot as plt\n",
    "import pandas as pd\n",
    "from scipy import sparse\n",
    "from sklearn.feature_selection import SelectKBest\n",
    "from sklearn.feature_selection import chi2\n",
    "from sklearn import preprocessing\n",
    "import seaborn as sns\n",
    "from sklearn.feature_extraction.text import CountVectorizer\n",
    "from sklearn.model_selection import train_test_split\n",
    "from sklearn.tree import DecisionTreeClassifier\n",
    "from sklearn.model_selection import cross_val_score\n",
    "from sklearn.metrics import confusion_matrix\n",
    "from sklearn.utils import resample\n",
    "from sklearn.linear_model import LogisticRegression\n",
    "from collections import Counter\n",
    "from sklearn.datasets import make_classification\n",
    "from sklearn.metrics import average_precision_score, precision_recall_curve"
   ]
  },
  {
   "cell_type": "markdown",
   "metadata": {},
   "source": [
    "## Read in train.txt data"
   ]
  },
  {
   "cell_type": "code",
   "execution_count": 150,
   "metadata": {},
   "outputs": [],
   "source": [
    "import json\n",
    "from pprint import pprint\n",
    "\n",
    "ls = []\n",
    "with open('train.txt') as f:\n",
    "    for line in f:\n",
    "        ls.append(json.loads(line))"
   ]
  },
  {
   "cell_type": "markdown",
   "metadata": {},
   "source": [
    "## Show structure of each patient json\n",
    "### (key_name, type_of_value_associated_to_key)"
   ]
  },
  {
   "cell_type": "code",
   "execution_count": 151,
   "metadata": {},
   "outputs": [
    {
     "name": "stdout",
     "output_type": "stream",
     "text": [
      "<zip object at 0x7f793a323af0>\n"
     ]
    }
   ],
   "source": [
    "pprint(zip(ls[0].keys(), [type(ls[0][x]) for x in ls[0].keys()]))"
   ]
  },
  {
   "cell_type": "markdown",
   "metadata": {},
   "source": [
    "## Display patient json"
   ]
  },
  {
   "cell_type": "code",
   "execution_count": 152,
   "metadata": {
    "scrolled": true
   },
   "outputs": [],
   "source": [
    "#pprint(ls[0])"
   ]
  },
  {
   "cell_type": "markdown",
   "metadata": {},
   "source": [
    "## Show 'resources' key"
   ]
  },
  {
   "cell_type": "code",
   "execution_count": 153,
   "metadata": {},
   "outputs": [],
   "source": [
    "#pprint(ls[0]['resources'])"
   ]
  },
  {
   "cell_type": "markdown",
   "metadata": {},
   "source": [
    "## Show 'observations' key"
   ]
  },
  {
   "cell_type": "code",
   "execution_count": 154,
   "metadata": {},
   "outputs": [],
   "source": [
    "#pprint(ls[2]['observations'])"
   ]
  },
  {
   "cell_type": "markdown",
   "metadata": {},
   "source": [
    "# Fill your code below this line"
   ]
  },
  {
   "cell_type": "markdown",
   "metadata": {},
   "source": [
    "\n",
    "\n",
    "## 1. Experimental setup/design"
   ]
  },
  {
   "cell_type": "markdown",
   "metadata": {},
   "source": [
    "<h3>Checking the number of points in the train dataset:</h3>"
   ]
  },
  {
   "cell_type": "code",
   "execution_count": 155,
   "metadata": {},
   "outputs": [
    {
     "data": {
      "text/plain": [
       "73597"
      ]
     },
     "execution_count": 155,
     "metadata": {},
     "output_type": "execute_result"
    }
   ],
   "source": [
    "len(ls)"
   ]
  },
  {
   "cell_type": "markdown",
   "metadata": {},
   "source": [
    "<b>There are 73597 points in the train set</b>"
   ]
  },
  {
   "cell_type": "markdown",
   "metadata": {},
   "source": [
    "<h3>Preprocessing the Raw Data:</b>"
   ]
  },
  {
   "cell_type": "markdown",
   "metadata": {},
   "source": [
    "<h3>Removing the points whose tag_dm2 date is before 01-01-2017. We are basically filtering out the priors in this step:</h3>"
   ]
  },
  {
   "cell_type": "code",
   "execution_count": 156,
   "metadata": {},
   "outputs": [
    {
     "name": "stdout",
     "output_type": "stream",
     "text": [
      "73520\n"
     ]
    }
   ],
   "source": [
    "ls_without_priors=[]\n",
    "for i in range(0,len(ls)):\n",
    "    if ls[i][\"tag_dm2\"]!=\"\":\n",
    "        if int(ls[i][\"tag_dm2\"].split('-')[0])>=2017:\n",
    "            ls_without_priors.append(ls[i])\n",
    "    elif ls[i][\"tag_dm2\"]==\"\":\n",
    "        ls_without_priors.append(ls[i])\n",
    "print(len(ls_without_priors))"
   ]
  },
  {
   "cell_type": "markdown",
   "metadata": {},
   "source": [
    "<b>After removing the priors we see that there are around 73520 points left.</b>"
   ]
  },
  {
   "cell_type": "markdown",
   "metadata": {},
   "source": [
    "<h3>Creating a label vector:</h3>"
   ]
  },
  {
   "cell_type": "code",
   "execution_count": 194,
   "metadata": {},
   "outputs": [
    {
     "name": "stdout",
     "output_type": "stream",
     "text": [
      "73520\n"
     ]
    }
   ],
   "source": [
    "labels=[]\n",
    "for i in range(0,len(ls_without_priors)):\n",
    "    if ls_without_priors[i][\"tag_dm2\"]!=\"\":\n",
    "        if int(ls_without_priors[i][\"tag_dm2\"].split('-')[0])>2017:\n",
    "            labels.append(0)\n",
    "        elif int(ls_without_priors[i][\"tag_dm2\"].split('-')[0])==2017:\n",
    "            labels.append(1)\n",
    "    elif ls_without_priors[i][\"tag_dm2\"]==\"\":\n",
    "        labels.append(0)\n",
    "labels=np.array(labels)\n",
    "print(len(labels))"
   ]
  },
  {
   "cell_type": "markdown",
   "metadata": {},
   "source": [
    "<b>Now, we have a label vector of size 73520.</b>"
   ]
  },
  {
   "cell_type": "markdown",
   "metadata": {},
   "source": [
    "<h3>Preprocessing the birthday feature and converting it into age in years:</b>"
   ]
  },
  {
   "cell_type": "code",
   "execution_count": 195,
   "metadata": {},
   "outputs": [
    {
     "data": {
      "text/html": [
       "<div>\n",
       "<style scoped>\n",
       "    .dataframe tbody tr th:only-of-type {\n",
       "        vertical-align: middle;\n",
       "    }\n",
       "\n",
       "    .dataframe tbody tr th {\n",
       "        vertical-align: top;\n",
       "    }\n",
       "\n",
       "    .dataframe thead th {\n",
       "        text-align: right;\n",
       "    }\n",
       "</style>\n",
       "<table border=\"1\" class=\"dataframe\">\n",
       "  <thead>\n",
       "    <tr style=\"text-align: right;\">\n",
       "      <th></th>\n",
       "      <th>Age</th>\n",
       "    </tr>\n",
       "  </thead>\n",
       "  <tbody>\n",
       "    <tr>\n",
       "      <th>0</th>\n",
       "      <td>58</td>\n",
       "    </tr>\n",
       "    <tr>\n",
       "      <th>1</th>\n",
       "      <td>14</td>\n",
       "    </tr>\n",
       "    <tr>\n",
       "      <th>2</th>\n",
       "      <td>28</td>\n",
       "    </tr>\n",
       "    <tr>\n",
       "      <th>3</th>\n",
       "      <td>60</td>\n",
       "    </tr>\n",
       "    <tr>\n",
       "      <th>4</th>\n",
       "      <td>24</td>\n",
       "    </tr>\n",
       "  </tbody>\n",
       "</table>\n",
       "</div>"
      ],
      "text/plain": [
       "   Age\n",
       "0   58\n",
       "1   14\n",
       "2   28\n",
       "3   60\n",
       "4   24"
      ]
     },
     "execution_count": 195,
     "metadata": {},
     "output_type": "execute_result"
    }
   ],
   "source": [
    "age=[]\n",
    "for i in range(len(ls_without_priors)):\n",
    "    age.append(2017-int(ls_without_priors[i]['bday'].split('-')[0]))\n",
    "df = pd.DataFrame({'Age':age})\n",
    "df.head()"
   ]
  },
  {
   "cell_type": "markdown",
   "metadata": {},
   "source": [
    "<h3>Preprocessing the 'is_male' feature:</h3>"
   ]
  },
  {
   "cell_type": "code",
   "execution_count": 159,
   "metadata": {},
   "outputs": [],
   "source": [
    "is_male=[]\n",
    "for i in range(len(ls_without_priors)):\n",
    "    if ls_without_priors[i]['is_male']==True:\n",
    "        is_male.append(1)\n",
    "    elif ls_without_priors[i]['is_male']==False: \n",
    "        is_male.append(0)\n",
    "df['is_male']=is_male"
   ]
  },
  {
   "cell_type": "markdown",
   "metadata": {},
   "source": [
    "<h3>Preprocessing the Observation feature:</h3>"
   ]
  },
  {
   "cell_type": "code",
   "execution_count": 160,
   "metadata": {},
   "outputs": [
    {
     "name": "stdout",
     "output_type": "stream",
     "text": [
      "Number of unique tests: 3910 Number of total tests performed for all the people: 4158790\n"
     ]
    }
   ],
   "source": [
    "test_list=[]\n",
    "test_code=set()\n",
    "for i in range(len(ls_without_priors)):\n",
    "    m = ls_without_priors[i]['observations']\n",
    "    for k in m:\n",
    "        for x in m[k]:\n",
    "            test_code.add(x['code'])\n",
    "            test_list.append(x['code'])\n",
    "print(\"Number of unique tests:\",len(test_code),\"Number of total tests performed for all the people:\",len(test_list))"
   ]
  },
  {
   "cell_type": "markdown",
   "metadata": {},
   "source": [
    "<b>After running the above patch of code, it was foind out that the same test was taken by a person multiple times over a period of time. In order to encode this feature only the most recent observation of every unique test is going to be taken into consideration.</b> "
   ]
  },
  {
   "cell_type": "code",
   "execution_count": 161,
   "metadata": {},
   "outputs": [],
   "source": [
    "list_of_tests=[]\n",
    "for i in range(len(ls_without_priors)):\n",
    "    test_list=[]\n",
    "    test_code=set()\n",
    "    dici={}\n",
    "    m = ls_without_priors[i]['observations']\n",
    "    for k in m:\n",
    "        \n",
    "        for x in m[k]:\n",
    "            if x['code'] not in dici:\n",
    "                k_split=k.split('-')\n",
    "                k_time_obj=datetime.date(int(k_split[0]),int(k_split[1]),int(k_split[2]))\n",
    "                dici[x['code']]=[k_time_obj]\n",
    "            elif x['code'] in dici:\n",
    "                k_split=k.split('-')\n",
    "                k_time_obj=datetime.date(int(k_split[0]),int(k_split[1]),int(k_split[2]))\n",
    "                dici[x['code']]+=[k_time_obj]\n",
    "    list_of_tests.append(dici)\n",
    "for i in list_of_tests:\n",
    "    for j in i:\n",
    "        a=sorted(i[j])\n",
    "        i[j]=a[-1]  \n",
    "new_list_of_tests = [] \n",
    "for i in range(len(list_of_tests)):\n",
    "    test={}\n",
    "    for key, value in list_of_tests[i].items(): \n",
    "       if value in test: \n",
    "           test[value].append(key) \n",
    "       else: \n",
    "           test[value]=[key] \n",
    "    new_list_of_tests.append(test)"
   ]
  },
  {
   "cell_type": "code",
   "execution_count": 162,
   "metadata": {},
   "outputs": [
    {
     "name": "stdout",
     "output_type": "stream",
     "text": [
      "{datetime.date(2014, 11, 13): ['loinc_13457-7', 'loinc_1742-6', 'loinc_1751-7', 'loinc_1759-0', 'loinc_17861-6', 'loinc_1920-8', 'loinc_1975-2', 'loinc_1989-3', 'loinc_2028-9', 'loinc_2075-0', 'loinc_2085-9', 'loinc_2093-3', 'loinc_2160-0', 'loinc_2276-4', 'loinc_2345-7', 'loinc_2498-4', 'loinc_2500-7', 'loinc_2571-8', 'loinc_2823-3', 'loinc_2885-2', 'loinc_2951-2', 'loinc_3016-3', 'loinc_3094-0', 'loinc_33037-3', 'loinc_33914-3', 'loinc_44734-2', 'loinc_6768-6', 'loinc_9830-1'], datetime.date(2014, 5, 21): ['loinc_24111-7', 'loinc_6356-0'], datetime.date(2014, 10, 30): ['loinc_20405-7', 'loinc_21000-5', 'loinc_2514-8', 'loinc_25428-4', 'loinc_26444-0', 'loinc_26449-9', 'loinc_26474-7', 'loinc_26484-6', 'loinc_28539-5', 'loinc_30451-9', 'loinc_32167-9', 'loinc_32623-1', 'loinc_32776-7', 'loinc_33825-1', 'loinc_4544-3', 'loinc_49754-5', 'loinc_5770-3', 'loinc_5778-6', 'loinc_5794-3', 'loinc_5799-2', 'loinc_5802-4', 'loinc_5803-2', 'loinc_5804-0', 'loinc_5811-5', 'loinc_6690-2', 'loinc_718-7', 'loinc_777-3', 'loinc_786-4', 'loinc_787-2', 'loinc_789-8']}\n"
     ]
    }
   ],
   "source": [
    "print(new_list_of_tests[0])"
   ]
  },
  {
   "cell_type": "markdown",
   "metadata": {},
   "source": [
    "<b> The above obtained new_list_of_tests contains only the unique tests taken for each person. The test taken on the most recent date has been retained.</b>"
   ]
  },
  {
   "cell_type": "markdown",
   "metadata": {},
   "source": [
    "<h3>Preprocessing the interpretation feature under observations:</h3>"
   ]
  },
  {
   "cell_type": "markdown",
   "metadata": {},
   "source": [
    "<b>The interpreation feature of a laboratory test for each observation can take the values 'Abnormal', 'Normal', 'Low', 'High','None' or it may have never been done for a particular person. It makes sense to convert this feature to a Bag of Words Representation:</b>"
   ]
  },
  {
   "cell_type": "code",
   "execution_count": 163,
   "metadata": {},
   "outputs": [
    {
     "name": "stdout",
     "output_type": "stream",
     "text": [
      "9097\n"
     ]
    }
   ],
   "source": [
    "#Buliding the structure of that vector\n",
    "test_list=[]\n",
    "test_code=set()\n",
    "for i in range(len(ls_without_priors)):\n",
    "    m = ls_without_priors[i]['observations']\n",
    "    for k in m:\n",
    "        \n",
    "        for x in m[k]:\n",
    "            test_code.add(x['code'])\n",
    "            test_list.append(x['code'])\n",
    "#print(len(test_code), len(test_list))\n",
    "test_code_vector_structure={}\n",
    "ct=0\n",
    "test_value_vector=[]\n",
    "for i in test_code:\n",
    "    test_code_vector_structure[i]=ct\n",
    "    ct+=1\n",
    "for i in range(len(ls_without_priors)):\n",
    "    temp=[0 for i in range(3910)]\n",
    "    for date in new_list_of_tests[i]:\n",
    "        m=ls_without_priors[i]['observations'][date.strftime('%Y-%m-%d')]\n",
    "        for dici in m:\n",
    "            if dici['code'] in new_list_of_tests[i][date]:\n",
    "                temp[test_code_vector_structure[dici['code']]]=dici['interpretation']\n",
    "    test_value_vector.append(temp)\n",
    "#print(len(test_value_vector))\n",
    "for i in range(len(test_value_vector)):\n",
    "    for j in range(len(test_value_vector[0])):\n",
    "        if test_value_vector[i][j]==None:\n",
    "            test_value_vector[i][j]='Noresult'\n",
    "        elif test_value_vector[i][j]==0:\n",
    "            test_value_vector[i][j]='Never'\n",
    "        elif test_value_vector[i][j]=='L':\n",
    "            test_value_vector[i][j]='Low'\n",
    "        elif test_value_vector[i][j]=='H':\n",
    "            test_value_vector[i][j]='High'\n",
    "        elif test_value_vector[i][j]=='N':\n",
    "            test_value_vector[i][j]='Normal'\n",
    "        elif test_value_vector[i][j]=='A':\n",
    "            test_value_vector[i][j]='Abnormal'\n",
    "        else:\n",
    "            continue\n",
    "yalla=list(test_code)\n",
    "df_interpretation=pd.DataFrame(test_value_vector)\n",
    "df_interpretation.columns=yalla\n",
    "\n",
    "#Converting to BOW\n",
    "vectorizer = CountVectorizer()\n",
    "df_interpretation_bow=pd.DataFrame()\n",
    "for i in range(len(yalla)):\n",
    "    t=df_interpretation[yalla[i]].values\n",
    "    X=vectorizer.fit_transform(t)\n",
    "    \n",
    "    l=vectorizer.get_feature_names()\n",
    "    temp_l=[yalla[i]+'_'+j for j in l]\n",
    "    df_interpretation_bow[temp_l]=pd.DataFrame.sparse.from_spmatrix(X)\n",
    "print(len(df_interpretation_bow.columns))"
   ]
  },
  {
   "cell_type": "markdown",
   "metadata": {},
   "source": [
    "<h3>Preprocessing the Resources Feature</h3>"
   ]
  },
  {
   "cell_type": "code",
   "execution_count": 164,
   "metadata": {},
   "outputs": [
    {
     "data": {
      "text/plain": [
       "' cpt_99213 icd9_V85.23 cpt_87210 icd9_789.03 cpt_87591 cpt_87491 icd9_616.10 cpt_73620 cpt_99213 icd10_L84 cpt_11055 cpt_73610 icd9_719.47 cpt_99213 icd10_L57.0 cpt_99213 icd10_L84 cpt_17000 icd9_564.00 cpt_99213 cpt_74000 icd9_V85.1 icd9_789.00 icd10_Z12.31 icd9_V76.12 cpt_77057 cpt_73510 icd9_789.03 cpt_99213 cpt_97140 icd9_719.45 cpt_97110 cpt_97001 cpt_72195 icd9_789.09 cpt_99213 icd9_V85.22 icd9_278.02 icd9_700 cpt_83540 cpt_83550 cpt_80053 cpt_82728 icd9_V72.31 cpt_82306 cpt_77080 cpt_84443 icd9_733.90 cpt_80061 cpt_99213 icd9_789.03 icd9_278.02 cpt_97140 icd9_719.45 cpt_97110 icd9_V76.12 cpt_77057 icd9_733.99 icd9_729.5 cpt_73630 cpt_99213 icd9_703.0 icd10_R30.0 cpt_99213 icd10_J40 cpt_87804 cpt_99213 icd9_727.9 cpt_99213 icd10_F41.1 cpt_99213 icd9_715.97 icd9_796.2 cpt_73590 icd9_719.47 cpt_99213 cpt_L1902 cpt_76856 icd9_789.03 icd9_625.9 cpt_76830 cpt_73721 icd9_719.05 cpt_92133 icd10_H40.003 cpt_92083 icd9_719.45 cpt_97110 cpt_97140 icd9_719.45 cpt_97110 cpt_97140 icd9_719.45 cpt_97110 icd9_780.79 icd9_V72.31 cpt_97110 cpt_81003 icd9_V49.81 cpt_81001 cpt_85025 icd9_719.45 cpt_77080 icd9_599.72 '"
      ]
     },
     "execution_count": 164,
     "metadata": {},
     "output_type": "execute_result"
    }
   ],
   "source": [
    "str_rep_of_resources=[]\n",
    "for i in range(len(ls_without_priors)):\n",
    "    m=ls_without_priors[i]['resources']\n",
    "    temp_s=''\n",
    "    for j in m:\n",
    "        temp_s+=' '.join(m[j])\n",
    "        temp_s+=' '\n",
    "        temp_s=re.sub(' +', ' ', temp_s)\n",
    "    str_rep_of_resources.append(temp_s)\n",
    "str_rep_of_resources[0] "
   ]
  },
  {
   "cell_type": "code",
   "execution_count": 165,
   "metadata": {},
   "outputs": [
    {
     "name": "stdout",
     "output_type": "stream",
     "text": [
      "(73520, 14805)\n"
     ]
    }
   ],
   "source": [
    "cv = CountVectorizer()\n",
    "cv_fit=cv.fit_transform(str_rep_of_resources)\n",
    "resources_freq=cv_fit.toarray()\n",
    "\n",
    "print(resources_freq.shape)\n",
    "feature_freq_names=cv.get_feature_names()"
   ]
  },
  {
   "cell_type": "markdown",
   "metadata": {},
   "source": [
    "<b>We have converted the resorces feature into frequency counts. That is, for every patient we will have the number of times a doctor has performed a specific test/diagnosis.So the length of encoding for each patient would be the total number of unique diagonosis/medications or procedures specified by the doctors.From the above we see that the length of encoding for each patient would be 14805.</b>"
   ]
  },
  {
   "cell_type": "markdown",
   "metadata": {},
   "source": [
    "<h3>Preprocessing the Value feature under Observations:</h3>"
   ]
  },
  {
   "cell_type": "markdown",
   "metadata": {},
   "source": [
    "<b>This is a numerical feature and for each of the unique tests we are going to have a value for each patient if he has taken the test</b>"
   ]
  },
  {
   "cell_type": "code",
   "execution_count": 166,
   "metadata": {},
   "outputs": [
    {
     "name": "stdout",
     "output_type": "stream",
     "text": [
      "3910 4158790\n",
      "73520\n",
      "['loinc_26444-0', 'loinc_32623-1', 'loinc_30451-9', 'loinc_26449-9', 'loinc_10834-0', 'loinc_26474-7', 'loinc_26484-6', 'loinc_33037-3', 'loinc_770-8', 'loinc_706-2', 'loinc_713-8', 'loinc_736-9', 'loinc_5905-5', 'loinc_21000-5', 'loinc_9830-1', 'loinc_1759-0', 'loinc_788-0', 'loinc_33914-3', 'loinc_3016-3', 'loinc_704-7', 'loinc_785-6', 'loinc_711-2', 'loinc_731-0', 'loinc_742-7', 'loinc_751-8', 'loinc_13457-7', 'loinc_2093-3', 'loinc_2571-8', 'loinc_2085-9', 'loinc_1751-7', 'loinc_1742-6', 'loinc_1920-8', 'loinc_2885-2', 'loinc_1975-2', 'loinc_6768-6', 'loinc_786-4', 'loinc_787-2', 'loinc_2028-9', 'loinc_2075-0', 'loinc_17861-6', 'loinc_6690-2', 'loinc_2345-7', 'loinc_2823-3', 'loinc_2951-2', 'loinc_777-3', 'loinc_718-7', 'loinc_2160-0', 'loinc_3094-0', 'loinc_789-8', 'loinc_4544-3']\n"
     ]
    }
   ],
   "source": [
    "#Buliding the structure of that vector\n",
    "test_list=[]\n",
    "test_code=set()\n",
    "for i in range(len(ls_without_priors)):\n",
    "    m = ls_without_priors[i]['observations']\n",
    "    for k in m:\n",
    "        \n",
    "        for x in m[k]:\n",
    "            test_code.add(x['code'])\n",
    "            test_list.append(x['code'])\n",
    "print(len(test_code), len(test_list))\n",
    "test_code_vector_structure={}\n",
    "ct=0\n",
    "test_value_vector=[]\n",
    "for i in test_code:\n",
    "    test_code_vector_structure[i]=ct\n",
    "    ct+=1\n",
    "for i in range(len(ls_without_priors)):\n",
    "    temp=[0 for i in range(3910)]\n",
    "    for date in new_list_of_tests[i]:\n",
    "        m=ls_without_priors[i]['observations'][date.strftime('%Y-%m-%d')]\n",
    "        for dici in m:\n",
    "            if dici['code'] in new_list_of_tests[i][date]:\n",
    "                temp[test_code_vector_structure[dici['code']]]=dici['value']\n",
    "    test_value_vector.append(temp)\n",
    "print(len(test_value_vector))\n",
    "for i in range(len(test_value_vector)):\n",
    "    for j in range(len(test_value_vector[0])):\n",
    "        if test_value_vector[i][j]==None:\n",
    "            test_value_vector[i][j]=0 \n",
    "def column(matrix, i):\n",
    "    return [row[i] for row in matrix if row[i]!=0]\n",
    "dici_non_sparse_feature={}\n",
    "for j in range(0,3910):\n",
    "    a=column(test_value_vector,j)\n",
    "    dici_non_sparse_feature[j]=len(a)\n",
    "import operator\n",
    "test_code_list=list(test_code)\n",
    "sorted_d = sorted(dici_non_sparse_feature.items(), key=operator.itemgetter(1))\n",
    "non_sparse_features=sorted_d[-50:]\n",
    "#the above matrix holds the index of the 50 most non-sparse features present\n",
    "def column_return(matrix, i):\n",
    "    return [row[i] for row in matrix]\n",
    "feat_vector=[]\n",
    "feat_nos=[]\n",
    "for i in non_sparse_features:\n",
    "    a=column_return(test_value_vector,i[0])\n",
    "    feat_nos.append(test_code_list[i[0]])\n",
    "    feat_vector.append(a)\n",
    "np_feat_vector=np.array(feat_vector)\n",
    "np_feat_vector_t=np_feat_vector.T\n",
    "np_feat_vector_t[0]\n",
    "print(feat_nos)"
   ]
  },
  {
   "cell_type": "markdown",
   "metadata": {},
   "source": [
    "<b>Since this is a numerical feature we are going to have to scale and and here it has been chosen to scale between 0 and 1</b>"
   ]
  },
  {
   "cell_type": "code",
   "execution_count": 167,
   "metadata": {},
   "outputs": [],
   "source": [
    "min_max_scaler=preprocessing.MinMaxScaler()\n",
    "np_feat_vector_t_scaled=min_max_scaler.fit_transform(np_feat_vector_t)\n",
    "df_observation_feature=pd.DataFrame(np_feat_vector_t_scaled)\n",
    "df_observation_feature.columns=feat_nos"
   ]
  },
  {
   "cell_type": "markdown",
   "metadata": {},
   "source": [
    "<h1>Exploratory Data Analysis:</h1>"
   ]
  },
  {
   "cell_type": "markdown",
   "metadata": {},
   "source": [
    "<h3>Checking the distribution of Classes, that is, if we have a balanced dataset or an imbalanced dataset:</h3>"
   ]
  },
  {
   "cell_type": "code",
   "execution_count": 168,
   "metadata": {},
   "outputs": [
    {
     "data": {
      "image/png": "[encoded data removed]",
      "text/plain": [
       "<Figure size 432x288 with 1 Axes>"
      ]
     },
     "metadata": {},
     "output_type": "display_data"
    },
    {
     "name": "stdout",
     "output_type": "stream",
     "text": [
      "Number of Zeros(Not diagnosed type-2 diabetes in 2017) 70110\n",
      "Number of Ones(Diagnosed with type-2 diabetes in 2017) 3410\n"
     ]
    }
   ],
   "source": [
    "##https://medium.com/@krishnakummar/donut-chart-with-python-matplotlib-d411033c960b\n",
    "##Code to plot the distribution of 2 classes:\n",
    "no_of_ones=np.count_nonzero(labels)\n",
    "no_of_zeros=len(labels)-no_of_ones\n",
    "label = '0', '1'\n",
    "colors = ['lightskyblue', 'yellow']\n",
    "classes=[no_of_zeros,no_of_ones]\n",
    "plt.pie(classes, labels=label, colors=colors,\n",
    "        autopct='%1.1f%%', shadow=True)\n",
    "centre_circle = plt.Circle((0,0),0.75,color='black', fc='white',linewidth=1.25)\n",
    "fig = plt.gcf()\n",
    "fig.gca().add_artist(centre_circle)\n",
    "plt.axis('equal')\n",
    "plt.show() \n",
    "print(\"Number of Zeros(Not diagnosed type-2 diabetes in 2017)\",no_of_zeros)\n",
    "print(\"Number of Ones(Diagnosed with type-2 diabetes in 2017)\",no_of_ones)"
   ]
  },
  {
   "cell_type": "markdown",
   "metadata": {},
   "source": [
    "<b>We observe that the dataset is highly imbalanced from the above plot. A very large number of people belong to the class with no type-2 diabetes diagnosed in 2017 compared to the number of people who were diagnosed with type-2 diabetes in 2017.</b>"
   ]
  },
  {
   "cell_type": "markdown",
   "metadata": {},
   "source": [
    "<h3>Checking how the AGE feature which we had engineered previously affects the chance of being affected by type-II diabetes:</h3>"
   ]
  },
  {
   "cell_type": "code",
   "execution_count": 200,
   "metadata": {},
   "outputs": [
    {
     "data": {
      "text/plain": [
       "<matplotlib.axes._subplots.AxesSubplot at 0x7f7971692ed0>"
      ]
     },
     "execution_count": 200,
     "metadata": {},
     "output_type": "execute_result"
    },
    {
     "data": {
      "image/png": "[encoded data removed]",
      "text/plain": [
       "<Figure size 432x288 with 1 Axes>"
      ]
     },
     "metadata": {
      "needs_background": "light"
     },
     "output_type": "display_data"
    }
   ],
   "source": [
    "df['Labels']=labels\n",
    "boxplot = df.boxplot('Age',by='Labels')\n",
    "boxplot.set_ylabel(\"Age\")\n",
    "boxplot.set_xlabel(\"Type-II diabetes\")\n",
    "boxplot"
   ]
  },
  {
   "cell_type": "markdown",
   "metadata": {},
   "source": [
    "<b>From the above boxplot we observe that the chances of being affected by type-II diabetes varies with age. We say this because the means are completely different so we can make some sort of generalisation from it. For example, we can say that there may be a higher risk of being affected by type-II diabetes if the person if of age>60.</b>"
   ]
  },
  {
   "cell_type": "code",
   "execution_count": 170,
   "metadata": {},
   "outputs": [
    {
     "data": {
      "image/png": "[encoded data removed]",
      "text/plain": [
       "<Figure size 1080x864 with 2 Axes>"
      ]
     },
     "metadata": {
      "needs_background": "light"
     },
     "output_type": "display_data"
    }
   ],
   "source": [
    "fig, axes = plt.subplots(nrows=2, ncols=1)\n",
    "ax0, ax1= axes.flatten()\n",
    "ax0.hist(df[df['Labels']==1]['Age'].values,bins=25)\n",
    "ax0.set_title('HISTOGRAM OF NUMBER OF PEOPLE WITH AGE FOR PEOPLE AFFECTED BY TYPE-II DIABETES')\n",
    "ax0.set_xlabel('Age')\n",
    "ax0.set_ylabel('No. of People')\n",
    "ax1.hist(df[df['Labels']==0]['Age'].values,bins=25)\n",
    "ax1.set_title('HISTOGRAM OF NUMBER OF PEOPLE WITH AGE FOR PEOPLE NOT AFFECTED BY TYPE-II DIABETES')\n",
    "ax1.set_xlabel('Age')\n",
    "ax1.set_ylabel('No. of People')\n",
    "fig.tight_layout(pad=1.0)\n",
    "fig.set_figheight(12)\n",
    "fig.set_figwidth(15)"
   ]
  },
  {
   "cell_type": "markdown",
   "metadata": {},
   "source": [
    "<b>Again, from the histogram we can observe a difference in the distribution. Here, it is more evident that people who are aged less than 20 have very less chance of being affected by diabetes.</b>"
   ]
  },
  {
   "cell_type": "markdown",
   "metadata": {},
   "source": [
    "<b>Conclusion:</b>\n",
    "    This feature age may be sort of important since it provides a good distinction for people above 60 and people below the age 20.</b>"
   ]
  },
  {
   "cell_type": "markdown",
   "metadata": {},
   "source": [
    "<h3>Exploring the feature 'is_male':</h3>"
   ]
  },
  {
   "cell_type": "markdown",
   "metadata": {},
   "source": [
    "<b>We are going to explore here if a person's gender affects the possibility of being affected by Type-II daibetes or not</b>"
   ]
  },
  {
   "cell_type": "markdown",
   "metadata": {},
   "source": [
    "<h4>Checking number of females diagnosed with diabetes in 2017 and the number of females who weren't diagnosed with diabetes in 2017:</h4>"
   ]
  },
  {
   "cell_type": "code",
   "execution_count": 171,
   "metadata": {},
   "outputs": [
    {
     "data": {
      "image/png": "[encoded data removed]",
      "text/plain": [
       "<Figure size 432x288 with 1 Axes>"
      ]
     },
     "metadata": {},
     "output_type": "display_data"
    },
    {
     "name": "stdout",
     "output_type": "stream",
     "text": [
      "Number of Zeros(Females who were not diagnosed type-2 diabetes in 2017) 38465\n",
      "Number of Ones(Feales who were diagnosed with type-2 diabetes in 2017) 1624\n"
     ]
    }
   ],
   "source": [
    "female_df=df[df['is_male']==0]\n",
    "female_df['Labels'].value_counts()\n",
    "##https://medium.com/@krishnakummar/donut-chart-with-python-matplotlib-d411033c960b\n",
    "##Code to plot the distribution of 2 classes:\n",
    "label = '0', '1'\n",
    "colors = ['lightskyblue', 'yellow']\n",
    "classes=[female_df['Labels'].value_counts()[0],female_df['Labels'].value_counts()[1]]\n",
    "plt.pie(classes, labels=label, colors=colors,\n",
    "        autopct='%1.1f%%', shadow=True)\n",
    "centre_circle = plt.Circle((0,0),0.75,color='black', fc='white',linewidth=1.25)\n",
    "fig = plt.gcf()\n",
    "fig.gca().add_artist(centre_circle)\n",
    "plt.axis('equal')\n",
    "plt.show() \n",
    "print(\"Number of Zeros(Females who were not diagnosed type-2 diabetes in 2017)\",female_df['Labels'].value_counts()[0])\n",
    "print(\"Number of Ones(Feales who were diagnosed with type-2 diabetes in 2017)\",female_df['Labels'].value_counts()[1])"
   ]
  },
  {
   "cell_type": "markdown",
   "metadata": {},
   "source": [
    "<h4>Checking number of Males diagnosed with diabetes in 2017 and the number of Males who weren't diagnosed with diabetes in 2017:</h4>"
   ]
  },
  {
   "cell_type": "code",
   "execution_count": 172,
   "metadata": {},
   "outputs": [
    {
     "data": {
      "image/png": "[encoded data removed]",
      "text/plain": [
       "<Figure size 432x288 with 1 Axes>"
      ]
     },
     "metadata": {},
     "output_type": "display_data"
    },
    {
     "name": "stdout",
     "output_type": "stream",
     "text": [
      "Number of Zeros(Males who were not diagnosed type-2 diabetes in 2017) 31645\n",
      "Number of Ones(Males who were diagnosed with type-2 diabetes in 2017) 1786\n"
     ]
    }
   ],
   "source": [
    "male_df=df[df['is_male']==1]\n",
    "male_df['Labels'].value_counts()\n",
    "##https://medium.com/@krishnakummar/donut-chart-with-python-matplotlib-d411033c960b\n",
    "##Code to plot the distribution of 2 classes:\n",
    "\n",
    "label = '0', '1'\n",
    "colors = ['lightskyblue', 'yellow']\n",
    "classes=[male_df['Labels'].value_counts()[0],male_df['Labels'].value_counts()[1]]\n",
    "plt.pie(classes, labels=label, colors=colors,\n",
    "        autopct='%1.1f%%', shadow=True)\n",
    "centre_circle = plt.Circle((0,0),0.75,color='black', fc='white',linewidth=1.25)\n",
    "fig = plt.gcf()\n",
    "fig.gca().add_artist(centre_circle)\n",
    "plt.axis('equal')\n",
    "plt.show() \n",
    "print(\"Number of Zeros(Males who were not diagnosed type-2 diabetes in 2017)\",male_df['Labels'].value_counts()[0])\n",
    "print(\"Number of Ones(Males who were diagnosed with type-2 diabetes in 2017)\",male_df['Labels'].value_counts()[1])"
   ]
  },
  {
   "cell_type": "markdown",
   "metadata": {},
   "source": [
    "<b>From the above donut plots,we can say that the gender of the person does not clearly affect the fact that whether he has been diagnosed with diabetes in 2017 or not. This is because the percentages of affected and not affected by diabetes is not changing so much(little more than 1%) with respect to gender.</b>"
   ]
  },
  {
   "cell_type": "markdown",
   "metadata": {},
   "source": [
    "<h3>Exploring the feature, the number of times a person goes for a medical test:</h3>"
   ]
  },
  {
   "cell_type": "markdown",
   "metadata": {},
   "source": [
    "<b>This may be a useful feature because generally diabetes patients tend to get the blood test more number of times than people who are not affected by diabetes.</b>"
   ]
  },
  {
   "cell_type": "code",
   "execution_count": 173,
   "metadata": {},
   "outputs": [
    {
     "data": {
      "image/png": "[encoded data removed]",
      "text/plain": [
       "<Figure size 1440x576 with 2 Axes>"
      ]
     },
     "metadata": {
      "needs_background": "light"
     },
     "output_type": "display_data"
    }
   ],
   "source": [
    "no_of_days_medical_test=[]\n",
    "for i in range(len(ls_without_priors)):\n",
    "    no_of_days_medical_test+=[len(ls[i]['observations'])]\n",
    "df['no_of_days_medical_test']=no_of_days_medical_test\n",
    "fig, axes = plt.subplots(nrows=2, ncols=1)\n",
    "ax0, ax1= axes.flatten()\n",
    "ax0.hist(df[df['Labels']==1]['no_of_days_medical_test'].values,bins=60,range=[0,20])\n",
    "ax1.hist(df[df['Labels']==0]['no_of_days_medical_test'].values,bins=60,range=[0,20])\n",
    "ax0.set_title('HISTOGRAM OF NUMBER OF PEOPLE WITH N0. OF MEDICAL TESTS FOR PEOPLE AFFECTED BY TYPE-II DIABETES')\n",
    "ax0.set_xlabel('No. of medical tests')\n",
    "ax0.set_xlabel('No. of People')\n",
    "ax1.set_title('HISTOGRAM OF NUMBER OF PEOPLE WITH N0. OF MEDICAL TESTS FOR PEOPLE NOT AFFECTED BY TYPE-II DIABETES')\n",
    "ax1.set_xlabel('No. of medical tests')\n",
    "ax1.set_xlabel('No. of People')\n",
    "fig.tight_layout(pad=1.0)\n",
    "fig.set_figheight(8)\n",
    "fig.set_figwidth(20)"
   ]
  },
  {
   "cell_type": "markdown",
   "metadata": {},
   "source": [
    "<b> We learn from the above histograms that this feature does not help greatly in distinguishing between the people affected and not affected by diabetes since the distribution somewhat remains the same for both and also the dataset is highly imbalanced.</b>"
   ]
  },
  {
   "cell_type": "markdown",
   "metadata": {},
   "source": [
    "<h3>Exploring the interpretation of the Lab tests feature:</h3>"
   ]
  },
  {
   "cell_type": "markdown",
   "metadata": {},
   "source": [
    "<b>This feature has been encoded into Bag of Words format.Hence,we will have a column corresponding to each of the possible observed value for each test. Since,this will be of very high dimensionality, we will only be visualising the most important of these features. That is the feature which has the most correlation with the label. This will be identified using the SelecKBest feature of sklearn.</b>"
   ]
  },
  {
   "cell_type": "code",
   "execution_count": 174,
   "metadata": {},
   "outputs": [
    {
     "name": "stdout",
     "output_type": "stream",
     "text": [
      "                      Specs        Score\n",
      "3403      loinc_4548-4_high  4747.484130\n",
      "2008     loinc_27353-2_high  3497.438775\n",
      "5699      loinc_2345-7_high  1683.673463\n",
      "5518   loinc_14957-5_normal  1269.742131\n",
      "8695    loinc_9318-7_normal   893.697679\n",
      "...                     ...          ...\n",
      "4356     loinc_1975-2_never    96.240647\n",
      "7954   loinc_19123-9_normal    96.037637\n",
      "1838       loinc_1968-7_low    95.149258\n",
      "8002  loinc_5778-6_noresult    94.224749\n",
      "7314       loinc_1989-3_low    93.282036\n",
      "\n",
      "[100 rows x 2 columns]\n"
     ]
    }
   ],
   "source": [
    "bestfeatures = SelectKBest(score_func=chi2, k=20)\n",
    "fit = bestfeatures.fit(df_interpretation_bow,df['Labels'])\n",
    "scores = pd.DataFrame(fit.scores_)\n",
    "dfcolumns = pd.DataFrame(df_interpretation_bow.columns)\n",
    "featureScores = pd.concat([dfcolumns,scores],axis=1)\n",
    "featureScores.columns = ['Specs','Score']\n",
    "print(featureScores.nlargest(100,'Score'))\n",
    "best_20_features=featureScores.nlargest(100,'Score')['Specs']"
   ]
  },
  {
   "cell_type": "markdown",
   "metadata": {},
   "source": [
    "<b> We can see a pretty high score for the feature 'loinc_4548-4_high'. Lets take a look at how this feature is distributed for both the classes </b>"
   ]
  },
  {
   "cell_type": "code",
   "execution_count": 175,
   "metadata": {},
   "outputs": [],
   "source": [
    "a_0=df_interpretation_bow[df['Labels']==0]['loinc_4548-4_high'].value_counts()"
   ]
  },
  {
   "cell_type": "code",
   "execution_count": 176,
   "metadata": {},
   "outputs": [],
   "source": [
    "a_1=df_interpretation_bow[df['Labels']==1]['loinc_4548-4_high'].value_counts()"
   ]
  },
  {
   "cell_type": "code",
   "execution_count": 177,
   "metadata": {},
   "outputs": [
    {
     "data": {
      "image/png": "[encoded data removed]",
      "text/plain": [
       "<Figure size 504x720 with 2 Axes>"
      ]
     },
     "metadata": {
      "needs_background": "light"
     },
     "output_type": "display_data"
    }
   ],
   "source": [
    "df_interpretation_bow['Labels']=labels\n",
    "fig, axes = plt.subplots(nrows=2, ncols=1)\n",
    "ax0, ax1= axes.flatten()\n",
    "li=[a_0[0],a_0[1]]\n",
    "l1_1=[a_1[0],a_1[1]]\n",
    "ax0.bar(['Low','High'],li)\n",
    "\n",
    "ax0.set_title('Barplot showing the number of people actually not affected by diabetes by loinc_4548-4_high feature having a high value or not')\n",
    "ax0.set_ylabel('No. of People')\n",
    "ax1.bar(['Low','High'],l1_1)\n",
    "\n",
    "ax1.set_title('Barplot showing the number of people actually affected by diabetes by loinc_4548-4_high feature having a high value or not')\n",
    "ax1.set_ylabel('No. of People')\n",
    "fig.tight_layout(pad=5.0)\n",
    "fig.set_figheight(10)\n",
    "fig.set_figwidth(7)"
   ]
  },
  {
   "cell_type": "markdown",
   "metadata": {},
   "source": [
    "<b>From the above plots we see that there are about 200 people who are having a low value of 'loinc_4548-4_high' actually have diabetes. This looks less but it is actually an important feature, the reason being we have a very imbalanced dataset here hence we have a small value but this feature will help us tremendously in distinguishing since it acts as a very good identifier for True negatives</b>"
   ]
  },
  {
   "cell_type": "markdown",
   "metadata": {},
   "source": [
    "<h3>Exploring the Resources feature which contained the medications,diagnosis and procedures performed or described by the Doctor for each patient:</h3"
   ]
  },
  {
   "cell_type": "markdown",
   "metadata": {},
   "source": [
    "<b>This feature has also been encoded into Bag of Words representation</b>"
   ]
  },
  {
   "cell_type": "markdown",
   "metadata": {},
   "source": [
    "<b>Since this is also a very large sized vector, we are going to find the feature which is most correlated with the output labels and then visualize it.</b>"
   ]
  },
  {
   "cell_type": "code",
   "execution_count": 178,
   "metadata": {},
   "outputs": [
    {
     "name": "stdout",
     "output_type": "stream",
     "text": [
      "           Specs          Score\n",
      "12459  icd10_e11  151036.966015\n",
      "12720  icd10_i10   27299.054325\n",
      "9701   cpt_99232   17280.828909\n",
      "12731  icd10_i25   15061.720085\n",
      "12848  icd10_j96   14041.550226\n",
      "12505  icd10_e78   13576.758745\n",
      "12823  icd10_j44   13103.078898\n",
      "12754  icd10_i50   12957.811643\n",
      "13090  icd10_n18   10744.907784\n",
      "8261   cpt_83036   10095.513621\n"
     ]
    }
   ],
   "source": [
    "df_resources_freq=pd.DataFrame(resources_freq)\n",
    "bestfeatures_freq = SelectKBest(score_func=chi2, k=10)\n",
    "fit_freq = bestfeatures_freq.fit(df_resources_freq,df['Labels'])\n",
    "scores = pd.DataFrame(fit_freq.scores_)\n",
    "df_feature_freq_names=pd.DataFrame(feature_freq_names)\n",
    "feature_freq_Scores = pd.concat([df_feature_freq_names,scores],axis=1)\n",
    "feature_freq_Scores.columns = ['Specs','Score']\n",
    "print(feature_freq_Scores.nlargest(10,'Score'))\n"
   ]
  },
  {
   "cell_type": "markdown",
   "metadata": {},
   "source": [
    "<b>By looking at the scores obtained by using chi-square as the metric we see that the first couple of features may have a good amount of influence on the class.</b>"
   ]
  },
  {
   "cell_type": "markdown",
   "metadata": {},
   "source": [
    "<b>Now lets visualize how the feature icd10_e11 is distributed for both the classes</b>"
   ]
  },
  {
   "cell_type": "code",
   "execution_count": 197,
   "metadata": {},
   "outputs": [
    {
     "data": {
      "image/png": "[encoded data removed]",
      "text/plain": [
       "<Figure size 2160x1440 with 2 Axes>"
      ]
     },
     "metadata": {
      "needs_background": "light"
     },
     "output_type": "display_data"
    }
   ],
   "source": [
    "df_resources_freq.columns=feature_freq_names\n",
    "a_0=df_resources_freq['icd10_e11']\n",
    "a_0=a_0[df['Labels']==0].value_counts()\n",
    "a_1=df_resources_freq['icd10_e11']\n",
    "a_1=a_1[df['Labels']==1].value_counts()\n",
    "fig, axes = plt.subplots(nrows=2, ncols=1)\n",
    "ax0, ax1= axes.flatten()\n",
    "li=[a_0[0],a_0[1]]\n",
    "l1_1=[a_1[0],a_1[1]]\n",
    "ax0.bar(['not_prescribed','prescribed'],li)\n",
    "ax0.set_title('Barplot showing the number of people actually not affected by diabetes against icd10_e11 being prescribed or not')\n",
    "ax0.set_ylabel('No. of People')\n",
    "ax1.bar(['not_prescribed','prescribed'],l1_1)\n",
    "ax1.set_title('Barplot showing the number of people actually affected by diabetes against icd10_e11 being prescribed or not')\n",
    "ax1.set_ylabel('No. of People')\n",
    "fig.tight_layout(pad=1.0)\n",
    "fig.set_figheight(20)\n",
    "fig.set_figwidth(30)"
   ]
  },
  {
   "cell_type": "markdown",
   "metadata": {},
   "source": [
    "<b>From the above plots we observe that this seems to be one of the important features and is going to be very important in distinguishing because we can clearly see that there are a very large number of people who been affected by diabetes and been prescribed this icd10_e11 and also there is almost no one who has been not affected by diabetes and been prescribed with this.</b> "
   ]
  },
  {
   "cell_type": "markdown",
   "metadata": {},
   "source": [
    "<b>Exploring the icd10_i10 feature</b>"
   ]
  },
  {
   "cell_type": "markdown",
   "metadata": {},
   "source": [
    "<b>This feature is also bag of words encoded hence we have 0 if this has been prescribed else 1</b>"
   ]
  },
  {
   "cell_type": "code",
   "execution_count": 198,
   "metadata": {},
   "outputs": [
    {
     "data": {
      "image/png": "[encoded data removed]",
      "text/plain": [
       "<Figure size 2160x1440 with 2 Axes>"
      ]
     },
     "metadata": {
      "needs_background": "light"
     },
     "output_type": "display_data"
    }
   ],
   "source": [
    "a_0=df_resources_freq['icd10_i10']\n",
    "a_0=a_0[df['Labels']==0].value_counts()\n",
    "a_1=df_resources_freq['icd10_i10']\n",
    "a_1=a_1[df['Labels']==1].value_counts()\n",
    "fig, axes = plt.subplots(nrows=2, ncols=1)\n",
    "ax0, ax1= axes.flatten()\n",
    "li=[a_0[0],a_0[1]]\n",
    "l1_1=[a_1[0],a_1[1]]\n",
    "ax0.bar(['not_prescribed','prescribed'],li)\n",
    "ax0.set_title('Barplot showing the number of people actually not affected by diabetes against icd10_i10 being prescribed or not')\n",
    "ax0.set_ylabel('No. of People')\n",
    "ax1.bar(['not_prescribed','prescribed'],l1_1)\n",
    "ax1.set_title('Barplot showing the number of people actually affected by diabetes against icd10_i10 being prescribed or not')\n",
    "ax1.set_ylabel('No. of People')\n",
    "fig.tight_layout(pad=1.0)\n",
    "fig.set_figheight(20)\n",
    "fig.set_figwidth(30)"
   ]
  },
  {
   "cell_type": "markdown",
   "metadata": {},
   "source": [
    "<b>This I believe would also an important feature because we can clearly see that there are a very large number of people who are affected by diabetes who have been prescribed this medication.</b>"
   ]
  },
  {
   "cell_type": "markdown",
   "metadata": {},
   "source": [
    "<b> Some of the basic features and some engineered features have been explored above. Now lets proceed into the feature design section where we will will select the features we are going to use in our model and also engineer and explore a couple of more features.</b>"
   ]
  },
  {
   "cell_type": "markdown",
   "metadata": {},
   "source": [
    "## 2. Feature design/feature selection"
   ]
  },
  {
   "cell_type": "markdown",
   "metadata": {},
   "source": [
    "<h3>-->Some of the important features that we identified above that will be used to model are Age, icd10_e11 , icd10_e10 and loinc_4548-4_high.\n",
    "Apart from these we will design a few more features</h3>"
   ]
  },
  {
   "cell_type": "markdown",
   "metadata": {},
   "source": [
    "<h3>Now we are going to engineer another feature which is going to comprise sum of the most important features given by SelectKBest and which were not used in the feature above</b>"
   ]
  },
  {
   "cell_type": "code",
   "execution_count": 181,
   "metadata": {},
   "outputs": [
    {
     "data": {
      "text/plain": [
       "('icd10_e08', 'icd10_e09', 'icd10_e10', 'icd10_e11', 'icd10_e13')"
      ]
     },
     "execution_count": 181,
     "metadata": {},
     "output_type": "execute_result"
    }
   ],
   "source": [
    "diabetes_icd_imp=df_resources_freq[['cpt_99232','icd10_i25','icd10_j96','icd10_e78','icd10_j44','icd10_i50','icd10_n18','cpt_83036']]\n",
    "diab_feat_imp=diabetes_icd_imp.sum(axis=1)\n",
    "diab_feat_imp.columns=['sum_of_imp_resources']\n",
    "#,'cpt_99232','icd10_i25','icd10_j96','icd10_e78','icd10_j44','icd10_i50','icd10_n18','cpt_83036'\n",
    "'icd10_e08','icd10_e09','icd10_e10','icd10_e11','icd10_e13'"
   ]
  },
  {
   "cell_type": "code",
   "execution_count": 182,
   "metadata": {},
   "outputs": [
    {
     "data": {
      "image/png": "[encoded data removed]",
      "text/plain": [
       "<Figure size 1440x720 with 2 Axes>"
      ]
     },
     "metadata": {
      "needs_background": "light"
     },
     "output_type": "display_data"
    }
   ],
   "source": [
    "fig, axes = plt.subplots(nrows=2, ncols=1)\n",
    "ax0, ax1= axes.flatten()\n",
    "ax0.hist(diab_feat_imp[df['Labels']==0],bins=100,range=[0,20])\n",
    "ax1.hist(diab_feat_imp[df['Labels']==1],bins=100,range=[0,20])\n",
    "ax0.set_title('HISTOGRAM OF NUMBER OF PEOPLE WITH SUM OF SELECT10BEST IMPORTANT DIABETIC PRESCRIPTION FOR PEOPLE NOT AFFECTED BY TYPE-II DIABETES')\n",
    "ax0.set_xlabel('SUM OF DIABETIC PRESCRIPTIONS ')\n",
    "ax0.set_ylabel('No. of People')\n",
    "ax1.set_title('HISTOGRAM OF NUMBER OF PEOPLE WITH SUM OF SELECT10BEST IMPORTANT DIABETIC PRESCRIPTIONS FOR PEOPLE AFFECTED BY TYPE-II DIABETES')\n",
    "ax1.set_xlabel('SUM OF DIABETIC PRESCRIPTIONS ')\n",
    "ax1.set_ylabel('No. of People')\n",
    "fig.tight_layout(pad=2.0)\n",
    "fig.set_figheight(10)\n",
    "fig.set_figwidth(20)"
   ]
  },
  {
   "cell_type": "markdown",
   "metadata": {},
   "source": [
    "<B>By looking at the above plot we can say that this definitely becomes another feature that we have to incorportate into our model since it again helps us distinguish between both the classes since the distribututions are different.</b> "
   ]
  },
  {
   "cell_type": "markdown",
   "metadata": {},
   "source": [
    "<h2>Since we have decided which features to proceed with, we are going to start to put together these features into one dataframe.</h2>"
   ]
  },
  {
   "cell_type": "code",
   "execution_count": 183,
   "metadata": {},
   "outputs": [
    {
     "name": "stdout",
     "output_type": "stream",
     "text": [
      "   Age  loinc_4548-4_high  icd10_i10  icd10_e11  sum_of_imp_resources\n",
      "0   58                  0          0          0                     0\n",
      "1   14                  0          0          0                     0\n",
      "2   28                  0          0          0                     0\n",
      "3   60                  0          0          0                    10\n",
      "4   24                  0          0          0                     1\n"
     ]
    }
   ],
   "source": [
    "final_features=pd.concat([df['Age'],df_interpretation_bow['loinc_4548-4_high'],df_resources_freq['icd10_i10'],df_resources_freq['icd10_e11'],diab_feat_imp],axis=1)\n",
    "final_features.rename(columns={ final_features.columns[4]: \"sum_of_imp_resources\" }, inplace = True)\n",
    "print(final_features.head())"
   ]
  },
  {
   "cell_type": "markdown",
   "metadata": {},
   "source": [
    "<b>Since we have an imbalanced dataset we are going to Upsample the dataset.</b>"
   ]
  },
  {
   "cell_type": "markdown",
   "metadata": {},
   "source": [
    "<h2>Upsampling the dataset using random resampling method</h2>"
   ]
  },
  {
   "cell_type": "code",
   "execution_count": 184,
   "metadata": {},
   "outputs": [
    {
     "data": {
      "text/html": [
       "<div>\n",
       "<style scoped>\n",
       "    .dataframe tbody tr th:only-of-type {\n",
       "        vertical-align: middle;\n",
       "    }\n",
       "\n",
       "    .dataframe tbody tr th {\n",
       "        vertical-align: top;\n",
       "    }\n",
       "\n",
       "    .dataframe thead th {\n",
       "        text-align: right;\n",
       "    }\n",
       "</style>\n",
       "<table border=\"1\" class=\"dataframe\">\n",
       "  <thead>\n",
       "    <tr style=\"text-align: right;\">\n",
       "      <th></th>\n",
       "      <th>Age</th>\n",
       "      <th>loinc_4548-4_high</th>\n",
       "      <th>icd10_i10</th>\n",
       "      <th>icd10_e11</th>\n",
       "      <th>sum_of_imp_resources</th>\n",
       "    </tr>\n",
       "  </thead>\n",
       "  <tbody>\n",
       "    <tr>\n",
       "      <th>28387</th>\n",
       "      <td>57</td>\n",
       "      <td>0</td>\n",
       "      <td>0</td>\n",
       "      <td>3</td>\n",
       "      <td>7</td>\n",
       "    </tr>\n",
       "    <tr>\n",
       "      <th>23645</th>\n",
       "      <td>84</td>\n",
       "      <td>0</td>\n",
       "      <td>26</td>\n",
       "      <td>1</td>\n",
       "      <td>52</td>\n",
       "    </tr>\n",
       "    <tr>\n",
       "      <th>38006</th>\n",
       "      <td>74</td>\n",
       "      <td>0</td>\n",
       "      <td>11</td>\n",
       "      <td>1</td>\n",
       "      <td>5</td>\n",
       "    </tr>\n",
       "    <tr>\n",
       "      <th>67017</th>\n",
       "      <td>55</td>\n",
       "      <td>0</td>\n",
       "      <td>0</td>\n",
       "      <td>0</td>\n",
       "      <td>3</td>\n",
       "    </tr>\n",
       "    <tr>\n",
       "      <th>47262</th>\n",
       "      <td>64</td>\n",
       "      <td>0</td>\n",
       "      <td>2</td>\n",
       "      <td>1</td>\n",
       "      <td>6</td>\n",
       "    </tr>\n",
       "  </tbody>\n",
       "</table>\n",
       "</div>"
      ],
      "text/plain": [
       "       Age  loinc_4548-4_high  icd10_i10  icd10_e11  sum_of_imp_resources\n",
       "28387   57                  0          0          3                     7\n",
       "23645   84                  0         26          1                    52\n",
       "38006   74                  0         11          1                     5\n",
       "67017   55                  0          0          0                     3\n",
       "47262   64                  0          2          1                     6"
      ]
     },
     "execution_count": 184,
     "metadata": {},
     "output_type": "execute_result"
    }
   ],
   "source": [
    "minority=final_features[df['Labels']==1]\n",
    "df_minority_upsampled = resample(minority, \n",
    "                                 replace=True,     # sample with replacement\n",
    "                                 n_samples=70110,    # to match majority class\n",
    "                                 random_state=123)\n",
    "majority_class=final_features[df['Labels']==0]\n",
    "labels=[1 for i in range(70110)]\n",
    "labels.extend([0 for i in range(70110)])\n",
    "design_matrix=pd.concat([df_minority_upsampled,majority_class])\n",
    "design_labels=pd.DataFrame(labels)\n",
    "design_matrix.head()"
   ]
  },
  {
   "cell_type": "markdown",
   "metadata": {},
   "source": [
    "## 3. Model selection/tuning"
   ]
  },
  {
   "cell_type": "markdown",
   "metadata": {},
   "source": [
    "<h3>Logistic Regression Model</h3>"
   ]
  },
  {
   "cell_type": "markdown",
   "metadata": {},
   "source": [
    "<h3>Splitting into train-set(80%) and cross-validation set(20%):</h3>"
   ]
  },
  {
   "cell_type": "code",
   "execution_count": 185,
   "metadata": {},
   "outputs": [],
   "source": [
    "X_train, X_cv, y_train, y_cv = train_test_split(design_matrix,labels, test_size=0.20, random_state=42)"
   ]
  },
  {
   "cell_type": "markdown",
   "metadata": {},
   "source": [
    "<h3>Cross-Validation:</h3>"
   ]
  },
  {
   "cell_type": "markdown",
   "metadata": {},
   "source": [
    "<b>We are going to use cross validation to find the right regularisation parameter. We will use the PRAUC(same as the average precision) as the metric for cross-validation. So we have to seperate our train data now into train and cross-validation set:</b>"
   ]
  },
  {
   "cell_type": "code",
   "execution_count": 186,
   "metadata": {},
   "outputs": [
    {
     "name": "stderr",
     "output_type": "stream",
     "text": [
      "\n",
      "\n",
      "  0%|          | 0/12 [00:00<?, ?it/s]\u001b[A\u001b[A\n",
      "\n",
      "  8%|▊         | 1/12 [00:00<00:06,  1.64it/s]\u001b[A\u001b[A\n",
      "\n",
      " 17%|█▋        | 2/12 [00:01<00:06,  1.62it/s]\u001b[A\u001b[A\n",
      "\n",
      " 25%|██▌       | 3/12 [00:01<00:05,  1.61it/s]\u001b[A\u001b[A\n",
      "\n",
      " 33%|███▎      | 4/12 [00:02<00:05,  1.51it/s]\u001b[A\u001b[A\n",
      "\n",
      " 42%|████▏     | 5/12 [00:03<00:04,  1.41it/s]\u001b[A\u001b[A\n",
      "\n",
      " 50%|█████     | 6/12 [00:04<00:04,  1.32it/s]\u001b[A\u001b[A\n",
      "\n",
      " 58%|█████▊    | 7/12 [00:05<00:04,  1.18it/s]\u001b[A\u001b[A\n",
      "\n",
      " 67%|██████▋   | 8/12 [00:06<00:03,  1.09it/s]\u001b[A\u001b[A\n",
      "\n",
      " 75%|███████▌  | 9/12 [00:07<00:02,  1.05it/s]\u001b[A\u001b[A\n",
      "\n",
      " 83%|████████▎ | 10/12 [00:08<00:02,  1.12s/it]\u001b[A\u001b[A\n",
      "\n",
      " 92%|█████████▏| 11/12 [00:10<00:01,  1.23s/it]\u001b[A\u001b[A\n",
      "\n",
      "100%|██████████| 12/12 [00:12<00:00,  1.01s/it]\u001b[A\u001b[A\n"
     ]
    }
   ],
   "source": [
    "train_prauc=[]\n",
    "cv_prauc=[]\n",
    "precision_cv=[]\n",
    "recall_cv=[]\n",
    "regu_para=[10**-9,10**-8,10**-7,10**-6,10**-5,10**-4,10**-3,10**-2,10**-1,10,10**1,10**2]\n",
    "for i in tqdm(range(len(regu_para))):\n",
    "    clf = LogisticRegression(random_state=0,penalty='l2',C=regu_para[i]).fit(X_train,y_train)\n",
    "    train_probs=clf.predict_proba(X_train)[:,1]\n",
    "    cv_probs=clf.predict_proba(X_cv)[:,1]\n",
    "    train_prauc+=[average_precision_score(y_train,train_probs)]\n",
    "    cv_prauc+=[average_precision_score(y_cv,cv_probs)]\n",
    "    precision, recall, _ = precision_recall_curve(y_cv,cv_probs)\n",
    "    precision_cv.append(precision)\n",
    "    recall_cv.append(recall)\n"
   ]
  },
  {
   "cell_type": "markdown",
   "metadata": {},
   "source": [
    "<b>We are going to plot the precision-recall curve for all the values of regularisation parameter</b>"
   ]
  },
  {
   "cell_type": "code",
   "execution_count": 199,
   "metadata": {},
   "outputs": [
    {
     "data": {
      "image/png": "[encoded data removed]",
      "text/plain": [
       "<Figure size 1440x1440 with 12 Axes>"
      ]
     },
     "metadata": {
      "needs_background": "light"
     },
     "output_type": "display_data"
    }
   ],
   "source": [
    "fig, axes = plt.subplots(nrows=4, ncols=3)\n",
    "ax0, ax1,ax2,ax3,ax4,ax5,ax6,ax7,ax8,ax9,ax10,ax11= axes.flatten()\n",
    "ax0.step(recall_cv[0], precision_cv[0], color='b', alpha=0.8,where='post')\n",
    "ax1.step(recall_cv[1], precision_cv[1], color='b', alpha=0.8,where='post')\n",
    "ax2.step(recall_cv[2], precision_cv[2], color='b', alpha=0.8,where='post')\n",
    "ax3.step(recall_cv[3], precision_cv[3], color='b', alpha=0.8,where='post')\n",
    "ax4.step(recall_cv[4], precision_cv[4], color='b', alpha=0.8,where='post')\n",
    "ax5.step(recall_cv[5], precision_cv[5], color='b', alpha=0.8,where='post')\n",
    "ax6.step(recall_cv[6], precision_cv[6], color='b', alpha=0.8,where='post')\n",
    "ax7.step(recall_cv[7], precision_cv[7], color='b', alpha=0.8,where='post')\n",
    "ax8.step(recall_cv[8], precision_cv[8], color='b', alpha=0.8,where='post')\n",
    "ax9.step(recall_cv[9], precision_cv[9], color='b', alpha=0.8,where='post')\n",
    "ax10.step(recall_cv[10], precision_cv[10], color='b', alpha=0.8,where='post')\n",
    "ax11.step(recall_cv[11], precision_cv[11], color='b', alpha=0.8,where='post')\n",
    "\n",
    "ax0.set_title('Regu para=10^-9')\n",
    "ax0.set_xlabel('recall')\n",
    "ax0.set_ylabel('precision')\n",
    "\n",
    "ax1.set_title('Regu para=10^-8')\n",
    "ax1.set_xlabel('recall')\n",
    "ax1.set_ylabel('precision')\n",
    "\n",
    "ax2.set_title('Regu para=10^-7')\n",
    "ax2.set_xlabel('recall')\n",
    "ax2.set_ylabel('precision')\n",
    "\n",
    "\n",
    "ax3.set_title('Regu para=10^-6')\n",
    "ax3.set_xlabel('recall')\n",
    "ax3.set_ylabel('precision')\n",
    "\n",
    "ax4.set_title('Regu para=10^-5')\n",
    "ax4.set_xlabel('recall')\n",
    "ax4.set_ylabel('precision')\n",
    "\n",
    "ax5.set_title('Regu para=10^-4')\n",
    "ax5.set_xlabel('recall')\n",
    "ax5.set_ylabel('precision')\n",
    "\n",
    "ax6.set_title('Regu para=10^-3')\n",
    "ax6.set_xlabel('recall')\n",
    "ax6.set_ylabel('precision')\n",
    "\n",
    "ax7.set_title('Regu para=10^-2')\n",
    "ax7.set_xlabel('recall')\n",
    "ax7.set_ylabel('precision')\n",
    "\n",
    "ax8.set_title('Regu para=0.1')\n",
    "ax8.set_xlabel('recall')\n",
    "ax8.set_ylabel('precision')\n",
    "\n",
    "ax9.set_title('Regu para=1')\n",
    "ax9.set_ylabel('precision')\n",
    "ax9.set_xlabel('recall')\n",
    "\n",
    "ax10.set_title('Regu para=10')\n",
    "ax10.set_ylabel('precision')\n",
    "ax10.set_xlabel('recall')\n",
    "\n",
    "ax11.set_title('Regu para=100')\n",
    "ax11.set_ylabel('precision')\n",
    "ax11.set_xlabel('recall')\n",
    "\n",
    "\n",
    "fig.tight_layout(pad=0.5)\n",
    "fig.set_figheight(20)\n",
    "fig.set_figwidth(20)"
   ]
  },
  {
   "cell_type": "markdown",
   "metadata": {},
   "source": [
    "<h3>The above are the precision-recall curves for different values of the hyperparameter</h3> "
   ]
  },
  {
   "cell_type": "code",
   "execution_count": 188,
   "metadata": {},
   "outputs": [],
   "source": [
    "prauc=pd.concat([pd.Series(regu_para),pd.Series(cv_prauc)],axis=1)\n",
    "prauc.columns=[\"Hyperparameter\",'Average Precision Score on cross-validation']"
   ]
  },
  {
   "cell_type": "markdown",
   "metadata": {},
   "source": [
    "<b>Conclusion:</b>\n",
    "By looking at the above cross-validation curves, we observe that a value of 10^-4 wold be the right value to choose. This is because we get a good average-presion score at that point and we also don't overfit at this point.</b>\n"
   ]
  },
  {
   "cell_type": "markdown",
   "metadata": {},
   "source": [
    "## 4. Model performance evaluation (i.e how well it does along the metrics above)"
   ]
  },
  {
   "cell_type": "markdown",
   "metadata": {},
   "source": [
    "<h3>Trained on the best hyperparameter value found:</h3>"
   ]
  },
  {
   "cell_type": "code",
   "execution_count": 189,
   "metadata": {},
   "outputs": [
    {
     "name": "stdout",
     "output_type": "stream",
     "text": [
      "0.9788710767106079\n"
     ]
    }
   ],
   "source": [
    "clf = LogisticRegression(random_state=0,penalty='l2',C=10**-4).fit(X_train,y_train)\n",
    "train_probs=clf.predict_proba(X_train)[:,1]\n",
    "cv_probs=clf.predict_proba(X_cv)[:,1]\n",
    "print(average_precision_score(y_cv,cv_probs))"
   ]
  },
  {
   "cell_type": "code",
   "execution_count": 203,
   "metadata": {},
   "outputs": [],
   "source": [
    "cv_new_pred=[]\n",
    "for i in cv_probs:\n",
    "    if i>0.5:\n",
    "        cv_new_pred.append(1)\n",
    "    else:\n",
    "        cv_new_pred.append(0)\n",
    "        "
   ]
  },
  {
   "cell_type": "markdown",
   "metadata": {},
   "source": [
    "<b>The average precision score obtained is 0.9788 which means the model is performing extremely well. This fact can also be directly observed from the precsion recall curve plotted in the previous section.</b>"
   ]
  },
  {
   "cell_type": "code",
   "execution_count": 204,
   "metadata": {},
   "outputs": [
    {
     "name": "stdout",
     "output_type": "stream",
     "text": [
      "CV confusion matrix\n"
     ]
    },
    {
     "data": {
      "image/png": "[encoded data removed]",
      "text/plain": [
       "<Figure size 1080x360 with 2 Axes>"
      ]
     },
     "metadata": {
      "needs_background": "light"
     },
     "output_type": "display_data"
    }
   ],
   "source": [
    "from sklearn.metrics import confusion_matrix\n",
    "print(\"CV confusion matrix\")\n",
    "conf_matrix= pd.DataFrame(confusion_matrix(y_cv,cv_new_pred),range(2),range(2))\n",
    "fig = plt.figure(figsize=(15,5))\n",
    "ax = fig.add_subplot(1,2,2)\n",
    "sns.heatmap(conf_matrix,annot=True,ax=ax,fmt='g')\n",
    "plt.ylabel('Real Classes')\n",
    "plt.xlabel('Predicted Classes')\n",
    "plt.show()"
   ]
  },
  {
   "cell_type": "markdown",
   "metadata": {},
   "source": [
    "<b>Looking at the above confusion matrix we see that there are a large number of false negatives and since its a  medical application we never want to falsely predict that the person is not affected by a disease rather it is okay to tell a person that he has a disease and let him take a second opinion, hence I would mind more false positives than false negatives.</b>"
   ]
  },
  {
   "cell_type": "markdown",
   "metadata": {},
   "source": [
    "<h3>Changing the threshold value of classification to 0.4 so that we get a better tradeoff between fp and fn:</h3>"
   ]
  },
  {
   "cell_type": "code",
   "execution_count": 208,
   "metadata": {},
   "outputs": [
    {
     "name": "stdout",
     "output_type": "stream",
     "text": [
      "CV confusion matrix\n"
     ]
    },
    {
     "data": {
      "image/png": "[encoded data removed]",
      "text/plain": [
       "<Figure size 1080x360 with 2 Axes>"
      ]
     },
     "metadata": {
      "needs_background": "light"
     },
     "output_type": "display_data"
    }
   ],
   "source": [
    "cv_new_pred=[]\n",
    "for i in cv_probs:\n",
    "    if i>0.4:\n",
    "        cv_new_pred.append(1)\n",
    "    else:\n",
    "        cv_new_pred.append(0)\n",
    "print(\"CV confusion matrix\")\n",
    "conf_matrix= pd.DataFrame(confusion_matrix(y_cv,cv_new_pred),range(2),range(2))\n",
    "fig = plt.figure(figsize=(15,5))\n",
    "ax = fig.add_subplot(1,2,2)\n",
    "sns.heatmap(conf_matrix,annot=True,ax=ax,fmt='g')\n",
    "plt.ylabel('Real Classes')\n",
    "plt.xlabel('Predicted Classes')\n",
    "plt.show()  "
   ]
  },
  {
   "cell_type": "markdown",
   "metadata": {},
   "source": [
    "<b>The above confusion matrix shows us that by having a threshold value of 0.4 we are doing much better for this application since we are okay with having more number of false positives than false negatives. This is a business decision that we have made to change the threshold which would be better for this application.</b>"
   ]
  },
  {
   "cell_type": "markdown",
   "metadata": {},
   "source": [
    "<h1>Test data Preprocessing and testing on test set:</h1>"
   ]
  },
  {
   "cell_type": "code",
   "execution_count": 209,
   "metadata": {},
   "outputs": [
    {
     "name": "stdout",
     "output_type": "stream",
     "text": [
      "  patient_id             dm2_prob\n",
      "0      pat_1   0.2951823911315482\n",
      "1      pat_2  0.38658285274904036\n",
      "2      pat_4  0.27314622248737047\n",
      "3      pat_8  0.27747051126826133\n",
      "4     pat_11  0.18584597996556518\n",
      "5     pat_17  0.10645579767898171\n",
      "6     pat_18  0.15525364907500588\n",
      "7     pat_19   0.1024021043546173\n",
      "8     pat_20   0.2246428555125333\n",
      "9     pat_23  0.30460711841754273\n"
     ]
    }
   ],
   "source": [
    "def preprocess_test_set(test_data,cv,feature_freq_names):\n",
    "    ls_without_priors=[]\n",
    "    with open('test.txt') as f:\n",
    "     for line in f:\n",
    "        ls_without_priors.append(json.loads(line))\n",
    "    age=[]\n",
    "    for i in range(len(ls_without_priors)):\n",
    "        age.append(2017-int(ls_without_priors[i]['bday'].split('-')[0]))\n",
    "    df = pd.DataFrame({'Age':age})\n",
    "    str_rep_of_resources=[]\n",
    "    for i in range(len(ls_without_priors)):\n",
    "        m=ls_without_priors[i]['resources']\n",
    "        temp_s=''\n",
    "        for j in m:\n",
    "            temp_s+=' '.join(m[j])\n",
    "            temp_s+=' '\n",
    "            temp_s=re.sub(' +', ' ', temp_s)\n",
    "        str_rep_of_resources.append(temp_s)\n",
    "    cv_fit=cv.transform(str_rep_of_resources)\n",
    "    resources_freq=cv_fit.toarray()\n",
    "    df_resources_freq=pd.DataFrame(resources_freq)\n",
    "    df_resources_freq.columns=feature_freq_names\n",
    "    list_of_tests=[]\n",
    "    for i in range(len(ls_without_priors)):\n",
    "        test_list=[]\n",
    "        test_code=set()\n",
    "        dici={}\n",
    "        m = ls_without_priors[i]['observations']\n",
    "        for k in m:\n",
    "\n",
    "            for x in m[k]:\n",
    "                if x['code'] not in dici:\n",
    "                    k_split=k.split('-')\n",
    "                    k_time_obj=datetime.date(int(k_split[0]),int(k_split[1]),int(k_split[2]))\n",
    "                    dici[x['code']]=[k_time_obj]\n",
    "                elif x['code'] in dici:\n",
    "                    k_split=k.split('-')\n",
    "                    k_time_obj=datetime.date(int(k_split[0]),int(k_split[1]),int(k_split[2]))\n",
    "                    dici[x['code']]+=[k_time_obj]\n",
    "        list_of_tests.append(dici)\n",
    "    for i in list_of_tests:\n",
    "        for j in i:\n",
    "            a=sorted(i[j])\n",
    "            i[j]=a[-1]  \n",
    "    new_list_of_tests = [] \n",
    "    for i in range(len(list_of_tests)):\n",
    "        test={}\n",
    "        for key, value in list_of_tests[i].items(): \n",
    "           if value in test: \n",
    "               test[value].append(key) \n",
    "           else: \n",
    "               test[value]=[key] \n",
    "        new_list_of_tests.append(test)\n",
    "\n",
    "    feati=[]\n",
    "    for i in range(len(new_list_of_tests)):\n",
    "        cd=0\n",
    "        for j in new_list_of_tests[i]:\n",
    "            \n",
    "            for m in new_list_of_tests[i][j]:\n",
    "                if m=='loinc_4548-4':\n",
    "                    r=ls_without_priors[i]['observations'][j.strftime('%Y-%m-%d')]\n",
    "                    for q in r:\n",
    "                        if q['code']=='loinc_4548-4':\n",
    "                            if q['interpretation']=='H':\n",
    "                                feati+=[1]\n",
    "                                cd=1\n",
    "                            else:\n",
    "                                feati+=[0]\n",
    "                                cd=1\n",
    "                        if cd==1:\n",
    "                            break\n",
    "                if cd==1:\n",
    "                    break\n",
    "            if cd==1:\n",
    "                    break\n",
    "        if cd!=1:\n",
    "                feati+=[0]\n",
    "\n",
    "    df_interpret=pd.Series(feati)\n",
    "    diabetes_icd_imp=df_resources_freq[['cpt_99232','icd10_i25','icd10_j96','icd10_e78','icd10_j44','icd10_i50','icd10_n18','cpt_83036']]\n",
    "    diab_feat_imp=diabetes_icd_imp.sum(axis=1)\n",
    "    diab_feat_imp.columns=['sum_of_imp_resources']\n",
    "    final_features=pd.concat([df['Age'],df_interpret,df_resources_freq['icd10_i10'],df_resources_freq['icd10_e11'],diab_feat_imp],axis=1)\n",
    "    predictions=clf.predict(final_features)\n",
    "    predictions_probs=clf.predict_proba(final_features)[:,1]\n",
    "    \n",
    "    with open('prashanth_dm2_solution.csv', 'a') as file:\n",
    "            ct=0\n",
    "            writer = csv.writer(file)\n",
    "            writer.writerow(['patient_id','dm2_prob'])\n",
    "            for i in range(len(ls_without_priors)):\n",
    "                writer.writerow([ls_without_priors[i]['patient_id'],predictions_probs[ct]])\n",
    "                ct+=1\n",
    "        \n",
    "    \n",
    "    \n",
    "    \n",
    "    \n",
    "    \n",
    "    \n",
    "    return predictions,predictions_probs\n",
    "                            \n",
    "                        \n",
    "op,predis=preprocess_test_set('test.txt',cv,feature_freq_names)\n",
    "df=pd.read_csv('prashanth_dm2_solution.csv')\n",
    "print(df.head(10))"
   ]
  },
  {
   "cell_type": "markdown",
   "metadata": {},
   "source": [
    "## 5. A short write-up (2-3 paragraph) of your approach. Be sure to include the following:\n",
    "### - Top 5 most important features for predicting diabetes - have a rationale for why you think these are most important\n",
    "### - Briefly describe the model you used for training\n",
    "### - Explain how you optimized your model, and what performance metrics you optimized for\n",
    "### -How did you prevent overfitting?"
   ]
  },
  {
   "cell_type": "markdown",
   "metadata": {},
   "source": [
    "## Top 5 most important features for predicting diabetes:"
   ]
  },
  {
   "cell_type": "markdown",
   "metadata": {},
   "source": [
    "1) The most important feature I could observe after deep exploration of the data was the feature called icd10_e11 . This feature was extracted from the resources key under the record of each patient.The reason why I think this feature is the most important is because it acted as a direct signal to let me know if a person is affected by type-II diabetes or not. This is because icd10_e11 is actually the code which indicates type-II diabetes in medical literature hence acting sort of like a label by itself."
   ]
  },
  {
   "cell_type": "markdown",
   "metadata": {},
   "source": [
    "The above fact can also be proven by looking at the coefficients of the line which seperates the classes in logistic regression. We can interpret this fact by looking at the coefficients. We can very well observe below that the fourth number below corresponds to the feature icd10_e11 and this is the largest number of all thereby proving that its the most important feature."
   ]
  },
  {
   "cell_type": "code",
   "execution_count": 192,
   "metadata": {},
   "outputs": [
    {
     "data": {
      "text/plain": [
       "array([[0.02167449, 0.13493343, 0.03281268, 1.34845179, 0.01319281]])"
      ]
     },
     "execution_count": 192,
     "metadata": {},
     "output_type": "execute_result"
    }
   ],
   "source": [
    "clf.coef_"
   ]
  },
  {
   "cell_type": "markdown",
   "metadata": {},
   "source": [
    "2) The 2nd most indicative feature to me was the feature which was obtained from the observations key of each patients record. This was the interpreatation of the lab test 'loinc_4548-4' .This was encoded into bag of words and this being high turned out to be a very important feature. Only the fact that it was high or not was retained in a single column of vector. The scientific reason why this is so important is because this indicates the level of haemogloibin. Haemoglobin is a compound which directly affects the blood glucose level because it carries glucose molecules in it and therefore blood glucose level increase leads to the condition of diabetes. This again can be observed from the output of coefficients above where the second number is the second largest."
   ]
  },
  {
   "cell_type": "markdown",
   "metadata": {},
   "source": [
    "3) The next most important feature that I could see from exploring the data was the age of a person.This feature was designed using the bithday dates of each patient. The age of a person had a good correlation with the fact that a person was affected by diabetes or not. This is because a person above the age 60 is more likely to get affected by type-II diabetes and a person below the age 20 was less likely to be affected by this. This was observed by observing the distribution pertaining to both the classes."
   ]
  },
  {
   "cell_type": "markdown",
   "metadata": {},
   "source": [
    "4)Another very important feature that I found from the dataset was the code icd10_i10 which relates to hypertension in medical literature. This again influences the fact that a person will have diabetes or not by a large factor. A paper states that there is a very large relation between hypertension and diabetes.\n",
    "<a href=\"https://care.diabetesjournals.org/content/40/9/1273\">https://care.diabetesjournals.org/content/40/9/1273</a>"
   ]
  },
  {
   "cell_type": "markdown",
   "metadata": {},
   "source": [
    "5)Another important feature that I personally engineered was a combination of multiple codes indicating various health conditions in medical literature\n",
    "('cpt_99232','icd10_i25','icd10_j96','icd10_e78','icd10_j44','icd10_i50','icd10_n18','cpt_83036'). This was again obtained from the features key in the dataset. These were the most imporatant features indicated by SelectKBest but they did not have any significant effect when individually added to the model but they ended up having a very significant effect when added up together.  The sum was taken after bow encoding. The distribution of the sum of these features was observed and it indicated a significant difference in the way it was distributed for patients with diabetes and patients without diabetes."
   ]
  },
  {
   "cell_type": "markdown",
   "metadata": {},
   "source": [
    "## Model used for training:"
   ]
  },
  {
   "cell_type": "markdown",
   "metadata": {},
   "source": [
    "Why was logistic regression chosen?\n",
    "\n",
    "The model that the data was finally trained on was logistic regression model. A decision tree was also tried out and a decision tree with a depth of 4 gave the same exact performance of logistic regression. Since Logistic Regression gave results on par with decision tree it was chosen to model the data rather than decision trees. The reason for this being logistic regression is a simpler model and if it gives such a good performance it is sort of indicative that the data is Linearly seperable.\n",
    "\n",
    "Specifications of the model:\n",
    "\n",
    "Logistic regression is a simple classification algorithm to seperate linearly seperable data. The data that it was trained on had about 5 features hence we had to train 5 parameters for the model. Also L2 REGULARISATION was used."
   ]
  },
  {
   "cell_type": "markdown",
   "metadata": {},
   "source": [
    "## Optimisation of the Model:"
   ]
  },
  {
   "cell_type": "markdown",
   "metadata": {},
   "source": [
    "I personally believe that one of the most important thing for a data scientist is exploring at the data  and gathering the best features from it. Hence I spent most of my initial time engineering the features and making sure to get the best out of them. Most of the important features was explored using various plots and the best were retained.\n",
    "\n",
    "The model was later\n",
    "optimized for best performance using a single fold cross-validation. We just had one parameter to tune that is the coefficient of the regularisation term. A linear search across different values of the regularisation parameter was done and we obtained the best regularisation parameter value to be 10^-4. The metric used to evaluate this was PRAUC(same as average precision score). The precision-recall curve for different values of the hyperparameter was also plotted and then the best model was choosen by looking at the metrics and the curve and taking into consideration the bias-variance tradeoff. The threshold value of the model was chosen to be 0.4. This was done because with a standard threshold of 0.5 we were getting more false negatives than false positives. In a medical application we are always okay with a person being falsely clssified to have a disease because in that case he can always take a second opinion but he/she cannot be falsely diagnosed with having no disease since that could be really dangerous to the person. By changing threshold we had slightly more false positives but we reduced the false negatives by a lot.</b>"
   ]
  },
  {
   "cell_type": "markdown",
   "metadata": {},
   "source": [
    "## How overfitting was prevented?"
   ]
  },
  {
   "cell_type": "markdown",
   "metadata": {},
   "source": [
    "Overfitting here was prevented using L2-regularisation. I searched linearly across various values of the regularisation parameter and the best value was obtained using cross-validation. The best value was found to be 10^-4."
   ]
  }
 ],
 "metadata": {
  "kernelspec": {
   "display_name": "Python 3",
   "language": "python",
   "name": "python3"
  },
  "language_info": {
   "codemirror_mode": {
    "name": "ipython",
    "version": 3
   },
   "file_extension": ".py",
   "mimetype": "text/x-python",
   "name": "python",
   "nbconvert_exporter": "python",
   "pygments_lexer": "ipython3",
   "version": "3.7.6"
  }
 },
 "nbformat": 4,
 "nbformat_minor": 4
}
